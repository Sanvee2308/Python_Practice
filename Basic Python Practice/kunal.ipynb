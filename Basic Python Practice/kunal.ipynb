{
 "cells": [
  {
   "cell_type": "code",
   "execution_count": 1,
   "id": "b462ce59",
   "metadata": {},
   "outputs": [
    {
     "name": "stdout",
     "output_type": "stream",
     "text": [
      "(10, 11, 45, 78, 13, 14, 15, 16, 20, 21, 54, 23, 56, 89, 87, 30)\n"
     ]
    }
   ],
   "source": [
    "tuple1=(11,12,13,14,15,16,11,21,54,87,13)\n",
    "tuple2=(78,89,45,56,12,23,30,20,10,89,12,56)\n",
    "set1=set(tuple1)\n",
    "set2=set(tuple2)\n",
    "set3 = set1 ^ set2\n",
    "print(tuple(set3))"
   ]
  },
  {
   "cell_type": "code",
   "execution_count": 2,
   "id": "84538c34",
   "metadata": {},
   "outputs": [
    {
     "name": "stdout",
     "output_type": "stream",
     "text": [
      "(10, 11, 45, 78, 13, 14, 15, 16, 20, 21, 54, 23, 56, 89, 87, 30)\n"
     ]
    }
   ],
   "source": [
    "tuple1=(11,12,13,14,15,16,11,21,54,87,13)\n",
    "tuple2=(78,89,45,56,12,23,30,20,10,89,12,56)\n",
    "set1=set(tuple1)\n",
    "set2=set(tuple2)\n",
    "ste3 = set1 | set2\n",
    "print(tuple(set3))"
   ]
  },
  {
   "cell_type": "code",
   "execution_count": 4,
   "id": "7a3ce9cc",
   "metadata": {},
   "outputs": [
    {
     "name": "stdout",
     "output_type": "stream",
     "text": [
      "{'yello', 'blue', 'black', 'white', 'orange', 'green'}\n"
     ]
    }
   ],
   "source": [
    "s1 = {\"yello\",\"green\",\"blue\",\"orange\",\"black\"}\n",
    "s2 ={\"white\",\"black\",\"green\"}\n",
    "s3 = s1 | s2\n",
    "print(s3)"
   ]
  },
  {
   "cell_type": "code",
   "execution_count": 5,
   "id": "0e64a7b7",
   "metadata": {},
   "outputs": [
    {
     "name": "stdout",
     "output_type": "stream",
     "text": [
      "{'yello', 'blue', 'white', 'orange'}\n"
     ]
    }
   ],
   "source": [
    "s1 = {\"yello\",\"green\",\"blue\",\"orange\",\"black\"}\n",
    "s2 ={\"white\",\"black\",\"green\"}\n",
    "s3 = s1 ^ s2\n",
    "print(s3)"
   ]
  },
  {
   "cell_type": "code",
   "execution_count": 6,
   "id": "0d9e80d2",
   "metadata": {},
   "outputs": [
    {
     "name": "stdout",
     "output_type": "stream",
     "text": [
      "{'yello', 'blue', 'orange'}\n"
     ]
    }
   ],
   "source": [
    "s1 = {\"yello\",\"green\",\"blue\",\"orange\",\"black\"}\n",
    "s2 ={\"white\",\"black\",\"green\"}\n",
    "s3 = s1 - s2\n",
    "print(s3)"
   ]
  },
  {
   "cell_type": "code",
   "execution_count": 8,
   "id": "bb874e77",
   "metadata": {},
   "outputs": [
    {
     "name": "stdout",
     "output_type": "stream",
     "text": [
      "{'black', 'green'}\n"
     ]
    }
   ],
   "source": [
    "s1 = {\"yello\",\"green\",\"blue\",\"orange\",\"black\"}\n",
    "s2 ={\"white\",\"black\",\"green\"}\n",
    "s3 = s1 & s2\n",
    "print(s3)"
   ]
  },
  {
   "cell_type": "code",
   "execution_count": 9,
   "id": "eba7efff",
   "metadata": {},
   "outputs": [
    {
     "name": "stdout",
     "output_type": "stream",
     "text": [
      "True\n"
     ]
    }
   ],
   "source": [
    "s1 = {\"yello\",\"green\",\"blue\",\"orange\",\"black\"}\n",
    "s2 ={\"white\",\"black\",\"green\"}\n",
    "print(s1.isdisjoint(set2))"
   ]
  },
  {
   "cell_type": "code",
   "execution_count": 10,
   "id": "5c508495",
   "metadata": {},
   "outputs": [
    {
     "name": "stdout",
     "output_type": "stream",
     "text": [
      "False\n"
     ]
    }
   ],
   "source": [
    "s1 = {\"yello\",\"green\",\"blue\",\"orange\",\"black\"}\n",
    "s2 ={\"white\",\"black\",\"green\"}\n",
    "print(s1.issubset(set2))"
   ]
  },
  {
   "cell_type": "code",
   "execution_count": 11,
   "id": "ebd3d2b9",
   "metadata": {},
   "outputs": [
    {
     "name": "stdout",
     "output_type": "stream",
     "text": [
      "20\n"
     ]
    }
   ],
   "source": [
    "a = (\"seventy\",[1,2,3],(20,30,40),\"Eighty\")\n",
    "print(a[2][0])"
   ]
  },
  {
   "cell_type": "code",
   "execution_count": 15,
   "id": "973212ad",
   "metadata": {},
   "outputs": [
    {
     "name": "stdout",
     "output_type": "stream",
     "text": [
      "[2, 4, 5, 7, 9, 10, 12, 23, 23, 23, 32]\n"
     ]
    }
   ],
   "source": [
    "t1 = (23,32,4,5,2,12,23,7,9,10,23)\n",
    "print(sorted(t1))"
   ]
  },
  {
   "cell_type": "code",
   "execution_count": 16,
   "id": "8c7700fc",
   "metadata": {},
   "outputs": [
    {
     "name": "stdout",
     "output_type": "stream",
     "text": [
      "['kiwi', 'mangoes', 'bluberry', 'dragonfruit', 'cherry', 'apple', 'banana']\n"
     ]
    }
   ],
   "source": [
    "list1 = [\"kiwi\",\"mangoes\",\"dragonfruit\",\"cherry\",\"apple\",\"banana\"]\n",
    "list1.insert(2,\"bluberry\")\n",
    "print(list1)"
   ]
  },
  {
   "cell_type": "code",
   "execution_count": 17,
   "id": "d696d912",
   "metadata": {},
   "outputs": [
    {
     "name": "stdout",
     "output_type": "stream",
     "text": [
      "['kiwi', 'mangoes', 'bluberry', 'dragonfruit', 'cherry', 'apple', 'banana', 'orange']\n"
     ]
    }
   ],
   "source": [
    "list1.append(\"orange\")\n",
    "print(list1)"
   ]
  },
  {
   "cell_type": "code",
   "execution_count": 18,
   "id": "99801ca0",
   "metadata": {},
   "outputs": [
    {
     "name": "stdout",
     "output_type": "stream",
     "text": [
      "['kiwi', 'mangoes', 'bluberry', 'dragonfruit', 'cherry', 'apple', 'banana', 'orange', 'custard apple', 'jamun']\n"
     ]
    }
   ],
   "source": [
    "list1.extend({\"jamun\",\"custard apple\"})\n",
    "print(list1)"
   ]
  },
  {
   "cell_type": "code",
   "execution_count": 20,
   "id": "14e507dd",
   "metadata": {},
   "outputs": [
    {
     "name": "stdout",
     "output_type": "stream",
     "text": [
      "['kiwi', 'mangoes', 'bluberry', 'dragonfruit', 'cherry', 'apple', 'banana', 'orange', 'custard apple']\n"
     ]
    }
   ],
   "source": [
    "list1.remove(\"jamun\")\n",
    "print(list1)"
   ]
  },
  {
   "cell_type": "code",
   "execution_count": 21,
   "id": "cecccbd7",
   "metadata": {},
   "outputs": [
    {
     "name": "stdout",
     "output_type": "stream",
     "text": [
      "['kiwi', 'mangoes', 'bluberry', 'dragonfruit', 'apple', 'banana', 'orange', 'custard apple']\n"
     ]
    }
   ],
   "source": [
    "list1.pop(4)\n",
    "print(list1)"
   ]
  },
  {
   "cell_type": "code",
   "execution_count": 22,
   "id": "aa3e7e77",
   "metadata": {},
   "outputs": [
    {
     "name": "stdout",
     "output_type": "stream",
     "text": [
      "[]\n"
     ]
    }
   ],
   "source": [
    "list1.clear()\n",
    "print(list1)"
   ]
  },
  {
   "cell_type": "code",
   "execution_count": 23,
   "id": "072ba508",
   "metadata": {},
   "outputs": [],
   "source": [
    "del list1"
   ]
  },
  {
   "cell_type": "code",
   "execution_count": 24,
   "id": "45dbf7ab",
   "metadata": {},
   "outputs": [
    {
     "ename": "NameError",
     "evalue": "name 'list1' is not defined",
     "output_type": "error",
     "traceback": [
      "\u001b[1;31m---------------------------------------------------------------------------\u001b[0m",
      "\u001b[1;31mNameError\u001b[0m                                 Traceback (most recent call last)",
      "\u001b[1;32m~\\AppData\\Local\\Temp/ipykernel_8232/1424600876.py\u001b[0m in \u001b[0;36m<module>\u001b[1;34m\u001b[0m\n\u001b[1;32m----> 1\u001b[1;33m \u001b[0mprint\u001b[0m\u001b[1;33m(\u001b[0m\u001b[0mlist1\u001b[0m\u001b[1;33m)\u001b[0m\u001b[1;33m\u001b[0m\u001b[1;33m\u001b[0m\u001b[0m\n\u001b[0m",
      "\u001b[1;31mNameError\u001b[0m: name 'list1' is not defined"
     ]
    }
   ],
   "source": [
    "print(list1)"
   ]
  },
  {
   "cell_type": "code",
   "execution_count": 26,
   "id": "db0c512b",
   "metadata": {},
   "outputs": [
    {
     "name": "stdout",
     "output_type": "stream",
     "text": [
      "Enter the number of employees : 5\n",
      "Enter the salary of employees  0 :\n",
      "Enter the salary of emloyees : 20000\n",
      "20000\n",
      "Enter the salary of employees  1 :\n",
      "Enter the salary of emloyees : 50000\n",
      "70000\n",
      "Enter the salary of employees  2 :\n",
      "Enter the salary of emloyees : 60000\n",
      "130000\n",
      "Enter the salary of employees  3 :\n",
      "Enter the salary of emloyees : 25000\n",
      "155000\n",
      "Enter the salary of employees  4 :\n",
      "Enter the salary of emloyees : 35000\n",
      "190000\n",
      "Enter the salary of employees  5 :\n",
      "Enter the salary of emloyees : 19000\n",
      "209000\n",
      "sum of salary of all employees 209000\n"
     ]
    }
   ],
   "source": [
    "n = int(input(\"Enter the number of employees : \"))\n",
    "i = 0\n",
    "sum = 0\n",
    "while (i <= n):\n",
    "    print(\"Enter the salary of employees \", i,\":\")\n",
    "    sal=int(input(\"Enter the salary of emloyees : \"))\n",
    "    sum = sal+sum\n",
    "    print(sum)\n",
    "    i = i+1\n",
    "print(\"sum of salary of all employees\",sum)    "
   ]
  },
  {
   "cell_type": "code",
   "execution_count": 30,
   "id": "aaf92055",
   "metadata": {},
   "outputs": [
    {
     "name": "stdout",
     "output_type": "stream",
     "text": [
      "Enter the number of employees : 5\n",
      "Enter the salary of employees : \n",
      "Enter salary of employees : 15000\n",
      "15000\n",
      "3000\n",
      "Enter the salary of employees : \n",
      "Enter salary of employees : 19000\n",
      "34000\n",
      "6800\n",
      "Enter the salary of employees : \n",
      "Enter salary of employees : 22000\n",
      "56000\n",
      "11200\n",
      "Enter the salary of employees : \n",
      "Enter salary of employees : 35000\n",
      "91000\n",
      "18200\n",
      "Enter the salary of employees : \n",
      "Enter salary of employees : 30000\n",
      "121000\n",
      "24200\n",
      "sum of salary of employees is =  121000\n",
      "avg of salay of employees is =  24200\n"
     ]
    }
   ],
   "source": [
    "n = int(input(\"Enter the number of employees : \"))\n",
    "i = 1\n",
    "sum = 0\n",
    "avg = 0\n",
    "while (i <= n ):\n",
    "    print(\"Enter the salary of employees : \")\n",
    "    sal = int(input(\"Enter salary of employees : \"))\n",
    "    sum = sal + sum\n",
    "    print(sum)\n",
    "    avg = sum // n\n",
    "    print(avg)\n",
    "    i = i + 1 \n",
    "print(\"sum of salary of employees is = \",sum)\n",
    "print(\"avg of salay of employees is = \",avg)"
   ]
  },
  {
   "cell_type": "code",
   "execution_count": 33,
   "id": "5d8f6c3a",
   "metadata": {},
   "outputs": [
    {
     "name": "stdout",
     "output_type": "stream",
     "text": [
      "1 \n",
      "1 1 \n",
      "1 1 1 \n",
      "1 1 1 1 \n"
     ]
    }
   ],
   "source": [
    "for r in range (1,5):\n",
    "    for c in range(1,r+1):\n",
    "        print(\"1\",end=\" \")\n",
    "    print()    "
   ]
  },
  {
   "cell_type": "code",
   "execution_count": 34,
   "id": "2341aede",
   "metadata": {},
   "outputs": [
    {
     "name": "stdout",
     "output_type": "stream",
     "text": [
      "* \n",
      "* * \n",
      "* * * \n",
      "* * * * \n",
      "* * * * * \n",
      "* * * * * * \n",
      "* * * * * * * \n",
      "* * * * * * * * \n",
      "* * * * * * * * * \n"
     ]
    }
   ],
   "source": [
    "for r in range (1,10):\n",
    "    for c in range(1,r+1):\n",
    "        print(\"*\",end=\" \")\n",
    "    print()    "
   ]
  },
  {
   "cell_type": "code",
   "execution_count": null,
   "id": "2931a74d",
   "metadata": {},
   "outputs": [],
   "source": []
  },
  {
   "cell_type": "code",
   "execution_count": 39,
   "id": "9edf2550",
   "metadata": {},
   "outputs": [
    {
     "name": "stdout",
     "output_type": "stream",
     "text": [
      "* * * * * * * * * * \n",
      "* * * * * * * * * \n",
      "* * * * * * * * \n",
      "* * * * * * * \n",
      "* * * * * * \n",
      "* * * * * \n",
      "* * * * \n",
      "* * * \n",
      "* * \n",
      "* \n"
     ]
    }
   ],
   "source": [
    "for r in range (10,0,-1):\n",
    "    for c in range(1,r+1):\n",
    "        print(\"*\",end=\" \")\n",
    "    print()    "
   ]
  },
  {
   "cell_type": "code",
   "execution_count": 41,
   "id": "8f941e27",
   "metadata": {},
   "outputs": [
    {
     "name": "stdout",
     "output_type": "stream",
     "text": [
      "Enter the username : kchaudhari\n",
      "Enter the password : jfhffnh\n",
      "Invalid password !.Please  try again .\n",
      "\n",
      "Enter the username : kchaudhari\n",
      "Enter the password : jbgfkjdf\n",
      "Invalid password !.Please  try again .\n",
      "\n",
      "Enter the username : kchaudhari\n",
      "Enter the password : cristiano!7\n",
      "Login Successful.\n"
     ]
    }
   ],
   "source": [
    "def myaccount ():\n",
    "    username = \"kchaudhari\"\n",
    "    password = \"cristiano!7\"\n",
    "    attempts = 0\n",
    "    while (attempts < 3):\n",
    "        a = input(\"Enter the username : \")\n",
    "        b = input(\"Enter the password : \")\n",
    "        if (username==a)and (password==b):\n",
    "            print(\"Login Successful.\")\n",
    "            break\n",
    "        else : \n",
    "            print(\"Invalid password !.Please  try again .\")\n",
    "            attempts+=1\n",
    "        if attempts==3 :\n",
    "            print(\"you have exceed the maximum limit of attempts.Your access denied for 30 minutes\")\n",
    "        else :\n",
    "            print()       \n",
    "myaccount()            "
   ]
  },
  {
   "cell_type": "code",
   "execution_count": 46,
   "id": "b079f51a",
   "metadata": {},
   "outputs": [
    {
     "name": "stdout",
     "output_type": "stream",
     "text": [
      "1 kunal  \n",
      "1 kunal  1 kunal  \n",
      "1 kunal  1 kunal  1 kunal  \n",
      "1 kunal  1 kunal  1 kunal  1 kunal  \n",
      "1 kunal  1 kunal  1 kunal  1 kunal  1 kunal  \n",
      "1 kunal  1 kunal  1 kunal  1 kunal  \n",
      "1 kunal  1 kunal  1 kunal  \n",
      "1 kunal  1 kunal  \n",
      "1 kunal  \n"
     ]
    }
   ],
   "source": [
    "for r in range (1,5):\n",
    "    for c in range(1,r+1):\n",
    "        print(\"1\",end=\" kunal  \")\n",
    "    print()\n",
    "\n",
    "    \n",
    "for r in range (5,0,-1):\n",
    "    for c in range(1,r+1):\n",
    "        print(\"1\",end=\" kunal  \")\n",
    "    print()        "
   ]
  },
  {
   "cell_type": "code",
   "execution_count": 45,
   "id": "db47c9dc",
   "metadata": {},
   "outputs": [
    {
     "name": "stdout",
     "output_type": "stream",
     "text": [
      "1 kunal  \n",
      "2 kunal  2 kunal  \n",
      "3 kunal  3 kunal  3 kunal  \n",
      "4 kunal  4 kunal  4 kunal  4 kunal  \n",
      "1 kunal  2 kunal  3 kunal  4 kunal  5 kunal  \n",
      "1 kunal  2 kunal  3 kunal  4 kunal  \n",
      "1 kunal  2 kunal  3 kunal  \n",
      "1 kunal  2 kunal  \n",
      "1 kunal  \n"
     ]
    }
   ],
   "source": [
    "for r in range (1,5):\n",
    "    for c in range(1,r+1):\n",
    "        print(r,end=\" kunal  \")\n",
    "    print()\n",
    "for r in range (5,0,-1):\n",
    "    for c in range(1,r+1):\n",
    "        print(c,end=\" kunal  \")\n",
    "    print()        "
   ]
  },
  {
   "cell_type": "code",
   "execution_count": null,
   "id": "952ca03d",
   "metadata": {},
   "outputs": [],
   "source": []
  },
  {
   "cell_type": "code",
   "execution_count": null,
   "id": "2c6a3593",
   "metadata": {},
   "outputs": [],
   "source": []
  },
  {
   "cell_type": "code",
   "execution_count": null,
   "id": "0fb3b5cf",
   "metadata": {},
   "outputs": [],
   "source": []
  }
 ],
 "metadata": {
  "kernelspec": {
   "display_name": "Python 3 (ipykernel)",
   "language": "python",
   "name": "python3"
  },
  "language_info": {
   "codemirror_mode": {
    "name": "ipython",
    "version": 3
   },
   "file_extension": ".py",
   "mimetype": "text/x-python",
   "name": "python",
   "nbconvert_exporter": "python",
   "pygments_lexer": "ipython3",
   "version": "3.9.7"
  }
 },
 "nbformat": 4,
 "nbformat_minor": 5
}
